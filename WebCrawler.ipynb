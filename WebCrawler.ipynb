{
 "cells": [
  {
   "cell_type": "code",
   "execution_count": null,
   "metadata": {
    "colab": {
     "base_uri": "https://localhost:8080/"
    },
    "id": "njYoZtFsuO9o",
    "outputId": "e2a4dfe0-58fe-41e2-f615-c7a95e68d9f0"
   },
   "outputs": [
    {
     "name": "stdout",
     "output_type": "stream",
     "text": [
      "Requirement already satisfied: crawlee in /opt/anaconda3/envs/yahoofinance/lib/python3.12/site-packages (0.6.5)\n",
      "Requirement already satisfied: apify-fingerprint-datapoints>=0.0.2 in /opt/anaconda3/envs/yahoofinance/lib/python3.12/site-packages (from crawlee) (0.0.2)\n",
      "Requirement already satisfied: browserforge>=1.2.3 in /opt/anaconda3/envs/yahoofinance/lib/python3.12/site-packages (from crawlee) (1.2.3)\n",
      "Requirement already satisfied: cachetools>=5.5.0 in /opt/anaconda3/envs/yahoofinance/lib/python3.12/site-packages (from crawlee) (5.5.2)\n",
      "Requirement already satisfied: colorama>=0.4.0 in /opt/anaconda3/envs/yahoofinance/lib/python3.12/site-packages (from crawlee) (0.4.6)\n",
      "Requirement already satisfied: eval-type-backport>=0.2.0 in /opt/anaconda3/envs/yahoofinance/lib/python3.12/site-packages (from crawlee) (0.2.2)\n",
      "Requirement already satisfied: httpx>=0.27.0 in /opt/anaconda3/envs/yahoofinance/lib/python3.12/site-packages (from httpx[brotli,http2,zstd]>=0.27.0->crawlee) (0.28.1)\n",
      "Requirement already satisfied: more-itertools>=10.2.0 in /opt/anaconda3/envs/yahoofinance/lib/python3.12/site-packages (from crawlee) (10.6.0)\n",
      "Requirement already satisfied: psutil>=6.0.0 in /opt/anaconda3/envs/yahoofinance/lib/python3.12/site-packages (from crawlee) (7.0.0)\n",
      "Requirement already satisfied: pydantic!=2.10.0,!=2.10.1,!=2.10.2,>=2.8.0 in /opt/anaconda3/envs/yahoofinance/lib/python3.12/site-packages (from crawlee) (2.10.6)\n",
      "Requirement already satisfied: pydantic-settings<2.7.0,>=2.2.0 in /opt/anaconda3/envs/yahoofinance/lib/python3.12/site-packages (from crawlee) (2.6.1)\n",
      "Requirement already satisfied: pyee>=9.0.0 in /opt/anaconda3/envs/yahoofinance/lib/python3.12/site-packages (from crawlee) (12.1.1)\n",
      "Requirement already satisfied: rich>=13.9.0 in /opt/anaconda3/envs/yahoofinance/lib/python3.12/site-packages (from crawlee) (13.9.4)\n",
      "Requirement already satisfied: sortedcollections>=2.1.0 in /opt/anaconda3/envs/yahoofinance/lib/python3.12/site-packages (from crawlee) (2.1.0)\n",
      "Requirement already satisfied: tldextract>=5.1.0 in /opt/anaconda3/envs/yahoofinance/lib/python3.12/site-packages (from crawlee) (5.1.3)\n",
      "Requirement already satisfied: typing-extensions>=4.1.0 in /opt/anaconda3/envs/yahoofinance/lib/python3.12/site-packages (from crawlee) (4.12.2)\n",
      "Requirement already satisfied: yarl>=1.18.0 in /opt/anaconda3/envs/yahoofinance/lib/python3.12/site-packages (from crawlee) (1.18.3)\n",
      "Requirement already satisfied: click in /opt/anaconda3/envs/yahoofinance/lib/python3.12/site-packages (from browserforge>=1.2.3->crawlee) (8.1.8)\n",
      "Requirement already satisfied: anyio in /opt/anaconda3/envs/yahoofinance/lib/python3.12/site-packages (from httpx>=0.27.0->httpx[brotli,http2,zstd]>=0.27.0->crawlee) (4.8.0)\n",
      "Requirement already satisfied: certifi in /opt/anaconda3/envs/yahoofinance/lib/python3.12/site-packages (from httpx>=0.27.0->httpx[brotli,http2,zstd]>=0.27.0->crawlee) (2024.2.2)\n",
      "Requirement already satisfied: httpcore==1.* in /opt/anaconda3/envs/yahoofinance/lib/python3.12/site-packages (from httpx>=0.27.0->httpx[brotli,http2,zstd]>=0.27.0->crawlee) (1.0.7)\n",
      "Requirement already satisfied: idna in /opt/anaconda3/envs/yahoofinance/lib/python3.12/site-packages (from httpx>=0.27.0->httpx[brotli,http2,zstd]>=0.27.0->crawlee) (3.7)\n",
      "Requirement already satisfied: h11<0.15,>=0.13 in /opt/anaconda3/envs/yahoofinance/lib/python3.12/site-packages (from httpcore==1.*->httpx>=0.27.0->httpx[brotli,http2,zstd]>=0.27.0->crawlee) (0.14.0)\n",
      "Requirement already satisfied: brotli in /opt/anaconda3/envs/yahoofinance/lib/python3.12/site-packages (from httpx[brotli,http2,zstd]>=0.27.0->crawlee) (1.1.0)\n",
      "Requirement already satisfied: h2<5,>=3 in /opt/anaconda3/envs/yahoofinance/lib/python3.12/site-packages (from httpx[brotli,http2,zstd]>=0.27.0->crawlee) (4.2.0)\n",
      "Requirement already satisfied: zstandard>=0.18.0 in /opt/anaconda3/envs/yahoofinance/lib/python3.12/site-packages (from httpx[brotli,http2,zstd]>=0.27.0->crawlee) (0.23.0)\n",
      "Requirement already satisfied: annotated-types>=0.6.0 in /opt/anaconda3/envs/yahoofinance/lib/python3.12/site-packages (from pydantic!=2.10.0,!=2.10.1,!=2.10.2,>=2.8.0->crawlee) (0.7.0)\n",
      "Requirement already satisfied: pydantic-core==2.27.2 in /opt/anaconda3/envs/yahoofinance/lib/python3.12/site-packages (from pydantic!=2.10.0,!=2.10.1,!=2.10.2,>=2.8.0->crawlee) (2.27.2)\n",
      "Requirement already satisfied: python-dotenv>=0.21.0 in /opt/anaconda3/envs/yahoofinance/lib/python3.12/site-packages (from pydantic-settings<2.7.0,>=2.2.0->crawlee) (1.0.1)\n",
      "Requirement already satisfied: markdown-it-py>=2.2.0 in /opt/anaconda3/envs/yahoofinance/lib/python3.12/site-packages (from rich>=13.9.0->crawlee) (3.0.0)\n",
      "Requirement already satisfied: pygments<3.0.0,>=2.13.0 in /opt/anaconda3/envs/yahoofinance/lib/python3.12/site-packages (from rich>=13.9.0->crawlee) (2.19.1)\n",
      "Requirement already satisfied: sortedcontainers in /opt/anaconda3/envs/yahoofinance/lib/python3.12/site-packages (from sortedcollections>=2.1.0->crawlee) (2.4.0)\n",
      "Requirement already satisfied: requests>=2.1.0 in /opt/anaconda3/envs/yahoofinance/lib/python3.12/site-packages (from tldextract>=5.1.0->crawlee) (2.31.0)\n",
      "Requirement already satisfied: requests-file>=1.4 in /opt/anaconda3/envs/yahoofinance/lib/python3.12/site-packages (from tldextract>=5.1.0->crawlee) (2.1.0)\n",
      "Requirement already satisfied: filelock>=3.0.8 in /opt/anaconda3/envs/yahoofinance/lib/python3.12/site-packages (from tldextract>=5.1.0->crawlee) (3.18.0)\n",
      "Requirement already satisfied: multidict>=4.0 in /opt/anaconda3/envs/yahoofinance/lib/python3.12/site-packages (from yarl>=1.18.0->crawlee) (6.1.0)\n",
      "Requirement already satisfied: propcache>=0.2.0 in /opt/anaconda3/envs/yahoofinance/lib/python3.12/site-packages (from yarl>=1.18.0->crawlee) (0.3.0)\n",
      "Requirement already satisfied: hyperframe<7,>=6.1 in /opt/anaconda3/envs/yahoofinance/lib/python3.12/site-packages (from h2<5,>=3->httpx[brotli,http2,zstd]>=0.27.0->crawlee) (6.1.0)\n",
      "Requirement already satisfied: hpack<5,>=4.1 in /opt/anaconda3/envs/yahoofinance/lib/python3.12/site-packages (from h2<5,>=3->httpx[brotli,http2,zstd]>=0.27.0->crawlee) (4.1.0)\n",
      "Requirement already satisfied: mdurl~=0.1 in /opt/anaconda3/envs/yahoofinance/lib/python3.12/site-packages (from markdown-it-py>=2.2.0->rich>=13.9.0->crawlee) (0.1.2)\n",
      "Requirement already satisfied: charset-normalizer<4,>=2 in /opt/anaconda3/envs/yahoofinance/lib/python3.12/site-packages (from requests>=2.1.0->tldextract>=5.1.0->crawlee) (3.3.2)\n",
      "Requirement already satisfied: urllib3<3,>=1.21.1 in /opt/anaconda3/envs/yahoofinance/lib/python3.12/site-packages (from requests>=2.1.0->tldextract>=5.1.0->crawlee) (2.2.1)\n",
      "Requirement already satisfied: sniffio>=1.1 in /opt/anaconda3/envs/yahoofinance/lib/python3.12/site-packages (from anyio->httpx>=0.27.0->httpx[brotli,http2,zstd]>=0.27.0->crawlee) (1.3.1)\n"
     ]
    }
   ],
   "source": [
    "!pip install crawlee"
   ]
  },
  {
   "cell_type": "code",
   "execution_count": null,
   "metadata": {
    "colab": {
     "base_uri": "https://localhost:8080/"
    },
    "id": "ybLGVx74u1bO",
    "outputId": "f9e13968-f290-4501-806e-b0173beede07"
   },
   "outputs": [
    {
     "name": "stdout",
     "output_type": "stream",
     "text": [
      "Requirement already satisfied: playwright in /opt/anaconda3/envs/yahoofinance/lib/python3.12/site-packages (1.50.0)\n",
      "Requirement already satisfied: pyee<13,>=12 in /opt/anaconda3/envs/yahoofinance/lib/python3.12/site-packages (from playwright) (12.1.1)\n",
      "Requirement already satisfied: greenlet<4.0.0,>=3.1.1 in /opt/anaconda3/envs/yahoofinance/lib/python3.12/site-packages (from playwright) (3.1.1)\n",
      "Requirement already satisfied: typing-extensions in /opt/anaconda3/envs/yahoofinance/lib/python3.12/site-packages (from pyee<13,>=12->playwright) (4.12.2)\n"
     ]
    }
   ],
   "source": [
    "!pip install playwright"
   ]
  },
  {
   "cell_type": "code",
   "execution_count": null,
   "metadata": {
    "colab": {
     "base_uri": "https://localhost:8080/"
    },
    "id": "0Z1yk1qyvnoT",
    "outputId": "3de5283c-f6c9-4d8f-f2d0-1879dc8a00fd"
   },
   "outputs": [
    {
     "name": "stdout",
     "output_type": "stream",
     "text": [
      "Password:\n",
      "sudo: a password is required\n"
     ]
    }
   ],
   "source": [
    "!sudo apt update && sudo apt install -y \\\n",
    "    libgtk-4-bin libgtk-4-dev \\\n",
    "    libgraphene-1.0-0 \\\n",
    "    woff2 \\\n",
    "    libgstreamer-gl1.0-0 \\\n",
    "    libgstreamer-plugins-bad1.0-0 \\\n",
    "    libavif13 \\\n",
    "    libharfbuzz-icu0 \\\n",
    "    libenchant-2-2 \\\n",
    "    libsecret-1-0 \\\n",
    "    libhyphen0 \\\n",
    "    libmanette-0.2-0"
   ]
  },
  {
   "cell_type": "code",
   "execution_count": null,
   "metadata": {
    "colab": {
     "base_uri": "https://localhost:8080/"
    },
    "id": "VfsdFGr9vWvd",
    "outputId": "3c6de7ac-6823-409f-9707-14ce7b62eba0"
   },
   "outputs": [],
   "source": [
    "!playwright install"
   ]
  },
  {
   "cell_type": "code",
   "execution_count": 15,
   "metadata": {},
   "outputs": [
    {
     "name": "stdout",
     "output_type": "stream",
     "text": [
      "\u001b[31mERROR: Could not find a version that satisfies the requirement googlesearch (from versions: none)\u001b[0m\u001b[31m\n",
      "\u001b[0m\u001b[31mERROR: No matching distribution found for googlesearch\u001b[0m\u001b[31m\n",
      "\u001b[0m"
     ]
    }
   ],
   "source": [
    "!pip install googlesearch"
   ]
  },
  {
   "cell_type": "code",
   "execution_count": 16,
   "metadata": {
    "colab": {
     "base_uri": "https://localhost:8080/"
    },
    "id": "p8BCnK3twTL7",
    "outputId": "c05d17a8-cd83-4f3d-aa68-d55e7c56f30c"
   },
   "outputs": [
    {
     "name": "stdout",
     "output_type": "stream",
     "text": [
      "/opt/anaconda3/envs/yahoofinance/lib/python3.12/site-packages/googlesearch/__init__.py\n",
      "\u001b[33mWARNING: Skipping googlesearch as it is not installed.\u001b[0m\u001b[33m\n",
      "\u001b[0mRequirement already satisfied: googlesearch-python in /opt/anaconda3/envs/yahoofinance/lib/python3.12/site-packages (1.3.0)\n",
      "Requirement already satisfied: beautifulsoup4>=4.9 in /opt/anaconda3/envs/yahoofinance/lib/python3.12/site-packages (from googlesearch-python) (4.12.3)\n",
      "Requirement already satisfied: requests>=2.20 in /opt/anaconda3/envs/yahoofinance/lib/python3.12/site-packages (from googlesearch-python) (2.31.0)\n",
      "Requirement already satisfied: soupsieve>1.2 in /opt/anaconda3/envs/yahoofinance/lib/python3.12/site-packages (from beautifulsoup4>=4.9->googlesearch-python) (2.5)\n",
      "Requirement already satisfied: charset-normalizer<4,>=2 in /opt/anaconda3/envs/yahoofinance/lib/python3.12/site-packages (from requests>=2.20->googlesearch-python) (3.3.2)\n",
      "Requirement already satisfied: idna<4,>=2.5 in /opt/anaconda3/envs/yahoofinance/lib/python3.12/site-packages (from requests>=2.20->googlesearch-python) (3.7)\n",
      "Requirement already satisfied: urllib3<3,>=1.21.1 in /opt/anaconda3/envs/yahoofinance/lib/python3.12/site-packages (from requests>=2.20->googlesearch-python) (2.2.1)\n",
      "Requirement already satisfied: certifi>=2017.4.17 in /opt/anaconda3/envs/yahoofinance/lib/python3.12/site-packages (from requests>=2.20->googlesearch-python) (2024.2.2)\n"
     ]
    }
   ],
   "source": [
    "import googlesearch\n",
    "print(googlesearch.__file__)\n",
    "\n",
    "!pip uninstall googlesearch\n",
    "\n",
    "!pip install googlesearch-python"
   ]
  },
  {
   "cell_type": "code",
   "execution_count": null,
   "metadata": {},
   "outputs": [
    {
     "name": "stdout",
     "output_type": "stream",
     "text": [
      "Requirement already satisfied: googlesearch-python in /opt/anaconda3/envs/yahoofinance/lib/python3.12/site-packages (1.3.0)\n",
      "Requirement already satisfied: beautifulsoup4>=4.9 in /opt/anaconda3/envs/yahoofinance/lib/python3.12/site-packages (from googlesearch-python) (4.12.3)\n",
      "Requirement already satisfied: requests>=2.20 in /opt/anaconda3/envs/yahoofinance/lib/python3.12/site-packages (from googlesearch-python) (2.31.0)\n",
      "Requirement already satisfied: soupsieve>1.2 in /opt/anaconda3/envs/yahoofinance/lib/python3.12/site-packages (from beautifulsoup4>=4.9->googlesearch-python) (2.5)\n",
      "Requirement already satisfied: charset-normalizer<4,>=2 in /opt/anaconda3/envs/yahoofinance/lib/python3.12/site-packages (from requests>=2.20->googlesearch-python) (3.3.2)\n",
      "Requirement already satisfied: idna<4,>=2.5 in /opt/anaconda3/envs/yahoofinance/lib/python3.12/site-packages (from requests>=2.20->googlesearch-python) (3.7)\n",
      "Requirement already satisfied: urllib3<3,>=1.21.1 in /opt/anaconda3/envs/yahoofinance/lib/python3.12/site-packages (from requests>=2.20->googlesearch-python) (2.2.1)\n",
      "Requirement already satisfied: certifi>=2017.4.17 in /opt/anaconda3/envs/yahoofinance/lib/python3.12/site-packages (from requests>=2.20->googlesearch-python) (2024.2.2)\n",
      "Note: you may need to restart the kernel to use updated packages.\n"
     ]
    }
   ],
   "source": [
    "pip install googlesearch-python"
   ]
  },
  {
   "cell_type": "code",
   "execution_count": null,
   "metadata": {
    "id": "lEVg51BUwtsK"
   },
   "outputs": [],
   "source": [
    "import nest_asyncio\n",
    "nest_asyncio.apply()"
   ]
  },
  {
   "cell_type": "code",
   "execution_count": null,
   "metadata": {
    "colab": {
     "base_uri": "https://localhost:8080/",
     "height": 1000
    },
    "id": "b29Rn7BPuNdM",
    "outputId": "ce4de0b3-01b4-4f69-db45-04cfc1efcde2"
   },
   "outputs": [
    {
     "name": "stdout",
     "output_type": "stream",
     "text": [
      "Searching Google for: AES Solar  v. Kingdom of Spain\n",
      "Found URL: https://jusmundi.com/en/document/decision/en-aes-solar-and-others-pv-investors-v-the-kingdom-of-spain-order-of-the-united-states-court-of-appeals-for-the-district-of-columbia-friday-5th-january-2024\n",
      "Found URL: https://www.italaw.com/cases/9887\n",
      "Found URL: https://pca-cpa.org/en/cases/238/\n",
      "Found URL: https://jusmundi.com/en/document/decision/nl-aes-solar-and-others-pv-investors-v-the-kingdom-of-spain-uitspraak-van-het-rechtbank-amsterdam-wednesday-15th-march-2023\n",
      "Found URL: https://www.transnational-dispute-management.com/legal-and-regulatory-detail.asp?key=33041\n",
      "Found URL: https://www.italaw.com/cases/documents/13509\n",
      "Found URL: https://law.justia.com/cases/federal/district-courts/district-of-columbia/dcdce/1:2021cv03249/238369/44/\n",
      "Found URL: https://www.transnational-dispute-management.com/legal-and-regulatory-detail.asp?key=33042\n",
      "Found URL: https://arbitration.org/award/1048\n",
      "Found URL: https://investmentpolicy.unctad.org/investment-dispute-settlement/cases/435/the-pv-investors-v-spain\n"
     ]
    },
    {
     "data": {
      "text/html": [
       "<pre style=\"white-space:pre;overflow-x:auto;line-height:normal;font-family:Menlo,'DejaVu Sans Mono',consolas,'Courier New',monospace\"></pre>\n"
      ],
      "text/plain": []
     },
     "metadata": {},
     "output_type": "display_data"
    },
    {
     "name": "stderr",
     "output_type": "stream",
     "text": [
      "\u001b[90m[crawlee.crawlers._playwright._playwright_crawler]\u001b[0m \u001b[32mINFO \u001b[0m Current request statistics:\n",
      "┌───────────────────────────────┬──────────┐\n",
      "│ requests_finished             │ 0        │\n",
      "│ requests_failed               │ 0        │\n",
      "│ retry_histogram               │ [0]      │\n",
      "│ request_avg_failed_duration   │ None     │\n",
      "│ request_avg_finished_duration │ None     │\n",
      "│ requests_finished_per_minute  │ 0        │\n",
      "│ requests_failed_per_minute    │ 0        │\n",
      "│ request_total_duration        │ 0.0      │\n",
      "│ requests_total                │ 0        │\n",
      "│ crawler_runtime               │ 0.016209 │\n",
      "└───────────────────────────────┴──────────┘\n",
      "\u001b[90m[crawlee._autoscaling.autoscaled_pool]\u001b[0m \u001b[32mINFO \u001b[0m current_concurrency = 0; desired_concurrency = 2; cpu = 0.0; mem = 0.0; event_loop = 0.0; client_info = 0.0\n",
      "\u001b[90m[crawlee._autoscaling.autoscaled_pool]\u001b[0m \u001b[32mINFO \u001b[0m Waiting for remaining tasks to finish\n"
     ]
    },
    {
     "data": {
      "text/html": [
       "<pre style=\"white-space:pre;overflow-x:auto;line-height:normal;font-family:Menlo,'DejaVu Sans Mono',consolas,'Courier New',monospace\"></pre>\n"
      ],
      "text/plain": []
     },
     "metadata": {},
     "output_type": "display_data"
    },
    {
     "name": "stderr",
     "output_type": "stream",
     "text": [
      "\u001b[90m[crawlee.crawlers._playwright._playwright_crawler]\u001b[0m \u001b[32mINFO \u001b[0m Final request statistics:\n",
      "┌───────────────────────────────┬─────────┐\n",
      "│ requests_finished             │ 0       │\n",
      "│ requests_failed               │ 0       │\n",
      "│ retry_histogram               │ [0]     │\n",
      "│ request_avg_failed_duration   │ None    │\n",
      "│ request_avg_finished_duration │ None    │\n",
      "│ requests_finished_per_minute  │ 0       │\n",
      "│ requests_failed_per_minute    │ 0       │\n",
      "│ request_total_duration        │ 0.0     │\n",
      "│ requests_total                │ 0       │\n",
      "│ crawler_runtime               │ 0.29683 │\n",
      "└───────────────────────────────┴─────────┘\n"
     ]
    },
    {
     "name": "stdout",
     "output_type": "stream",
     "text": [
      "Scraping completed. Files saved to:\n",
      "- JSON: scraped_content/AES_Solar_/json/\n",
      "- HTML: scraped_content/AES_Solar_/html/\n",
      "You can now import the JSON files into Label Studio for annotation.\n"
     ]
    }
   ],
   "source": [
    "import asyncio\n",
    "import os\n",
    "import time\n",
    "import html\n",
    "import json\n",
    "from urllib.parse import urlparse\n",
    "from pathlib import Path\n",
    "from crawlee.crawlers import PlaywrightCrawler, PlaywrightCrawlingContext\n",
    "from googlesearch import search\n",
    "\n",
    "# For scrapping\n",
    "# pip install googlesearch-python\n",
    "# python -m pip install 'crawlee[all]'\n",
    "# playwright install\n",
    "# pip install beautifulsoup4\n",
    "\n",
    "# For labelling dataset\n",
    "# pip install -U label-studio\n",
    "# label-studio start\n",
    "\n",
    "PHRASE = \"AES Solar  v. Kingdom of Spain\"\n",
    "TOP_N = 10\n",
    "output_directory = f\"scraped_content/{PHRASE.replace(' ', '_')[:10]}\"\n",
    "\n",
    "def get_top_urls(query, num_results):\n",
    "    urls = []\n",
    "    for url in search(query, num_results=num_results):\n",
    "        urls.append(url)\n",
    "        print(f\"Found URL: {url}\")\n",
    "        time.sleep(0.1)\n",
    "    return urls\n",
    "\n",
    "def sanitize_filename(url):\n",
    "    parsed = urlparse(url)\n",
    "    netloc = parsed.netloc\n",
    "    if (netloc.startswith('www.')):\n",
    "        netloc = netloc[4:]\n",
    "    filename = netloc + parsed.path.replace('/', '_')\n",
    "    filename = ''.join(c if c.isalnum() or c in ['_', '-', '.'] else '_' for c in filename)\n",
    "    return filename[:10]\n",
    "\n",
    "def create_label_studio_xml(html_content, url, title):\n",
    "    json_content = json.dumps([{\"html_content\": html_content}])\n",
    "    xml_content = f\"\"\"<?xml version=\"1.0\" encoding=\"UTF-8\"?>\n",
    "<View>\n",
    "  <HyperText name=\"text\" value=\"$html_content\" valueType=\"text\" />\n",
    "  <Labels name=\"labels\" toName=\"text\">\n",
    "    <Label value=\"Important\" />\n",
    "    <Label value=\"Review\" />\n",
    "  </Labels>\n",
    "  <Meta>\n",
    "    <Info name=\"url\" value=\"{html.escape(url)}\"/>\n",
    "    <Info name=\"title\" value=\"{html.escape(title)}\"/>\n",
    "  </Meta>\n",
    "</View>\n",
    "\"\"\"\n",
    "    return xml_content, json_content\n",
    "\n",
    "async def main() -> None:\n",
    "    output_path = Path(output_directory)\n",
    "    output_path.mkdir(parents=True, exist_ok=True)\n",
    "\n",
    "    html_output_path = output_path / \"html\"\n",
    "    html_output_path.mkdir(exist_ok=True)\n",
    "\n",
    "    json_output_path = output_path / \"json\"\n",
    "    json_output_path.mkdir(exist_ok=True)\n",
    "\n",
    "    print(f\"Searching Google for: {PHRASE}\")\n",
    "    urls = get_top_urls(PHRASE, TOP_N)\n",
    "\n",
    "    crawler = PlaywrightCrawler(\n",
    "        headless=True,\n",
    "    )\n",
    "\n",
    "    @crawler.router.default_handler\n",
    "    async def request_handler(context: PlaywrightCrawlingContext) -> None:\n",
    "        url = context.request.url\n",
    "        context.log.info(f'Processing {url} ...')\n",
    "\n",
    "        await context.page.wait_for_load_state(\"networkidle\", timeout=30000)\n",
    "        html_content = await context.page.content()\n",
    "        title = await context.page.title()\n",
    "        _, json_content = create_label_studio_xml(html_content, url, title)\n",
    "\n",
    "        filename = sanitize_filename(url)\n",
    "\n",
    "        json_filename = filename + '.json'\n",
    "        json_file_path = json_output_path / json_filename\n",
    "        with open(json_file_path, 'w', encoding='utf-8') as f:\n",
    "            json.dump([{\"html_content\": html_content}], f, ensure_ascii=False, indent=4)\n",
    "        context.log.info(f'Saved JSON content to {json_file_path}')\n",
    "\n",
    "        html_filename = filename + '.html'\n",
    "        html_file_path = html_output_path / html_filename\n",
    "        with open(html_file_path, 'w', encoding='utf-8') as f:\n",
    "            f.write(html_content)\n",
    "        context.log.info(f'Saved HTML content to {html_file_path}')\n",
    "\n",
    "        data = {\n",
    "            'url': url,\n",
    "            'title': title,\n",
    "            'saved_json': str(json_file_path),\n",
    "            'saved_html': str(html_file_path),\n",
    "        }\n",
    "        await context.push_data(data)\n",
    "\n",
    "    await crawler.run(urls)\n",
    "    print(f\"Scraping completed. Files saved to:\")\n",
    "    print(f\"- JSON: {output_directory}/json/\")\n",
    "    print(f\"- HTML: {output_directory}/html/\")\n",
    "    print(f\"You can now import the JSON files into Label Studio for annotation.\")\n",
    "\n",
    "if __name__ == '__main__':\n",
    "    asyncio.run(main())"
   ]
  }
 ],
 "metadata": {
  "colab": {
   "provenance": []
  },
  "kernelspec": {
   "display_name": "yahoofinance",
   "language": "python",
   "name": "python3"
  },
  "language_info": {
   "codemirror_mode": {
    "name": "ipython",
    "version": 3
   },
   "file_extension": ".py",
   "mimetype": "text/x-python",
   "name": "python",
   "nbconvert_exporter": "python",
   "pygments_lexer": "ipython3",
   "version": "3.12.3"
  }
 },
 "nbformat": 4,
 "nbformat_minor": 0
}
